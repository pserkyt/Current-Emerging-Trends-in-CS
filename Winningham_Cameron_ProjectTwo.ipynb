{
 "cells": [
  {
   "cell_type": "markdown",
   "metadata": {},
   "source": [
    "# Treasure Hunt Game Notebook\n",
    "\n",
    "## Read and Review Your Starter Code\n",
    "The theme of this project is a popular treasure hunt game in which the player needs to find the treasure before the pirate does. While you will not be developing the entire game, you will write the part of the game that represents the intelligent agent, which is a pirate in this case. The pirate will try to find the optimal path to the treasure using deep Q-learning. \n",
    "\n",
    "You have been provided with two Python classes and this notebook to help you with this assignment. The first class, TreasureMaze.py, represents the environment, which includes a maze object defined as a matrix. The second class, GameExperience.py, stores the episodes – that is, all the states that come in between the initial state and the terminal state. This is later used by the agent for learning by experience, called \"exploration\". This notebook shows how to play a game. Your task is to complete the deep Q-learning implementation for which a skeleton implementation has been provided. The code blocs you will need to complete has #TODO as a header.\n",
    "\n",
    "First, read and review the next few code and instruction blocks to understand the code that you have been given."
   ]
  },
  {
   "cell_type": "code",
   "execution_count": 1,
   "metadata": {},
   "outputs": [
    {
     "name": "stdout",
     "output_type": "stream",
     "text": [
      "Init Plugin\n",
      "Init Graph Optimizer\n",
      "Init Kernel\n"
     ]
    }
   ],
   "source": [
    "from __future__ import print_function\n",
    "import os, sys, time, datetime, json, random\n",
    "import numpy as np\n",
    "from keras.models import Sequential\n",
    "from keras.layers.core import Dense, Activation\n",
    "#from keras.optimizers import SGD , Adam, RMSprop\n",
    "from tensorflow.keras.optimizers import SGD, Adam, RMSprop\n",
    "from keras.layers.advanced_activations import PReLU\n",
    "import matplotlib.pyplot as plt\n",
    "from TreasureMaze import TreasureMaze\n",
    "from GameExperience import GameExperience\n",
    "%matplotlib inline"
   ]
  },
  {
   "cell_type": "markdown",
   "metadata": {},
   "source": [
    "The following code block contains an 8x8 matrix that will be used as a maze object:"
   ]
  },
  {
   "cell_type": "code",
   "execution_count": 2,
   "metadata": {},
   "outputs": [],
   "source": [
    "maze = np.array([\n",
    "    [ 1.,  0.,  1.,  1.,  1.,  1.,  1.,  1.],\n",
    "    [ 1.,  0.,  1.,  1.,  1.,  0.,  1.,  1.],\n",
    "    [ 1.,  1.,  1.,  1.,  0.,  1.,  0.,  1.],\n",
    "    [ 1.,  1.,  1.,  0.,  1.,  1.,  1.,  1.],\n",
    "    [ 1.,  1.,  0.,  1.,  1.,  1.,  1.,  1.],\n",
    "    [ 1.,  1.,  1.,  0.,  1.,  0.,  0.,  0.],\n",
    "    [ 1.,  1.,  1.,  0.,  1.,  1.,  1.,  1.],\n",
    "    [ 1.,  1.,  1.,  1.,  0.,  1.,  1.,  1.]\n",
    "])"
   ]
  },
  {
   "cell_type": "markdown",
   "metadata": {},
   "source": [
    "This helper function allows a visual representation of the maze object:"
   ]
  },
  {
   "cell_type": "code",
   "execution_count": 3,
   "metadata": {},
   "outputs": [],
   "source": [
    "def show(qmaze):\n",
    "    plt.grid('on')\n",
    "    nrows, ncols = qmaze.maze.shape\n",
    "    ax = plt.gca()\n",
    "    ax.set_xticks(np.arange(0.5, nrows, 1))\n",
    "    ax.set_yticks(np.arange(0.5, ncols, 1))\n",
    "    ax.set_xticklabels([])\n",
    "    ax.set_yticklabels([])\n",
    "    canvas = np.copy(qmaze.maze)\n",
    "    for row,col in qmaze.visited:\n",
    "        canvas[row,col] = 0.6\n",
    "    pirate_row, pirate_col, _ = qmaze.state\n",
    "    canvas[pirate_row, pirate_col] = 0.3   # pirate cell\n",
    "    canvas[nrows-1, ncols-1] = 0.9 # treasure cell\n",
    "    img = plt.imshow(canvas, interpolation='none', cmap='gray')\n",
    "    return img"
   ]
  },
  {
   "cell_type": "markdown",
   "metadata": {},
   "source": [
    "The pirate agent can move in four directions: left, right, up, and down. \n",
    "\n",
    "While the agent primarily learns by experience through exploitation, often, the agent can choose to explore the environment to find previously undiscovered paths. This is called \"exploration\" and is defined by epsilon. This value is typically a lower value such as 0.1, which means for every ten attempts, the agent will attempt to learn by experience nine times and will randomly explore a new path one time. You are encouraged to try various values for the exploration factor and see how the algorithm performs."
   ]
  },
  {
   "cell_type": "code",
   "execution_count": 4,
   "metadata": {},
   "outputs": [],
   "source": [
    "LEFT = 0\n",
    "UP = 1\n",
    "RIGHT = 2\n",
    "DOWN = 3\n",
    "\n",
    "\n",
    "# Exploration factor\n",
    "epsilon = 0.1\n",
    "\n",
    "# Actions dictionary\n",
    "actions_dict = {\n",
    "    LEFT: 'left',\n",
    "    UP: 'up',\n",
    "    RIGHT: 'right',\n",
    "    DOWN: 'down',\n",
    "}\n",
    "\n",
    "num_actions = len(actions_dict)\n"
   ]
  },
  {
   "cell_type": "markdown",
   "metadata": {},
   "source": [
    "The sample code block and output below show creating a maze object and performing one action (DOWN), which returns the reward. The resulting updated environment is visualized."
   ]
  },
  {
   "cell_type": "code",
   "execution_count": 5,
   "metadata": {},
   "outputs": [
    {
     "name": "stdout",
     "output_type": "stream",
     "text": [
      "reward= -0.04\n"
     ]
    },
    {
     "data": {
      "text/plain": [
       "<matplotlib.image.AxesImage at 0x176e7c460>"
      ]
     },
     "execution_count": 5,
     "metadata": {},
     "output_type": "execute_result"
    },
    {
     "data": {
      "image/png": "[encoded data removed]",
      "text/plain": [
       "<Figure size 432x288 with 1 Axes>"
      ]
     },
     "metadata": {
      "needs_background": "light"
     },
     "output_type": "display_data"
    }
   ],
   "source": [
    "qmaze = TreasureMaze(maze)\n",
    "canvas, reward, game_over = qmaze.act(DOWN)\n",
    "print(\"reward=\", reward)\n",
    "show(qmaze)"
   ]
  },
  {
   "cell_type": "markdown",
   "metadata": {},
   "source": [
    "This function simulates a full game based on the provided trained model. The other parameters include the TreasureMaze object and the starting position of the pirate."
   ]
  },
  {
   "cell_type": "code",
   "execution_count": 6,
   "metadata": {},
   "outputs": [],
   "source": [
    "def play_game(model, qmaze, pirate_cell):\n",
    "    qmaze.reset(pirate_cell)\n",
    "    envstate = qmaze.observe()\n",
    "    while True:\n",
    "        prev_envstate = envstate\n",
    "        # get next action\n",
    "        q = model.predict(prev_envstate)\n",
    "        action = np.argmax(q[0])\n",
    "\n",
    "        # apply action, get rewards and new state\n",
    "        envstate, reward, game_status = qmaze.act(action)\n",
    "        if game_status == 'win':\n",
    "            return True\n",
    "        elif game_status == 'lose':\n",
    "            return False"
   ]
  },
  {
   "cell_type": "markdown",
   "metadata": {},
   "source": [
    "This function helps you to determine whether the pirate can win any game at all. If your maze is not well designed, the pirate may not win any game at all. In this case, your training would not yield any result. The provided maze in this notebook ensures that there is a path to win and you can run this method to check."
   ]
  },
  {
   "cell_type": "code",
   "execution_count": 7,
   "metadata": {},
   "outputs": [],
   "source": [
    "def completion_check(model, qmaze):\n",
    "    for cell in qmaze.free_cells:\n",
    "        if not qmaze.valid_actions(cell):\n",
    "            return False\n",
    "        if not play_game(model, qmaze, cell):\n",
    "            return False\n",
    "    return True"
   ]
  },
  {
   "cell_type": "markdown",
   "metadata": {},
   "source": [
    "The code you have been given in this block will build the neural network model. Review the code and note the number of layers, as well as the activation, optimizer, and loss functions that are used to train the model."
   ]
  },
  {
   "cell_type": "code",
   "execution_count": 8,
   "metadata": {},
   "outputs": [],
   "source": [
    "def build_model(maze):\n",
    "    model = Sequential()\n",
    "    model.add(Dense(maze.size, input_shape=(maze.size,)))\n",
    "    model.add(PReLU())\n",
    "    model.add(Dense(maze.size))\n",
    "    model.add(PReLU())\n",
    "    model.add(Dense(num_actions))\n",
    "    model.compile(optimizer='adam', loss='mse')\n",
    "    return model"
   ]
  },
  {
   "cell_type": "markdown",
   "metadata": {},
   "source": [
    "# #TODO: Complete the Q-Training Algorithm Code Block\n",
    "\n",
    "This is your deep Q-learning implementation. The goal of your deep Q-learning implementation is to find the best possible navigation sequence that results in reaching the treasure cell while maximizing the reward. In your implementation, you need to determine the optimal number of epochs to achieve a 100% win rate.\n",
    "\n",
    "You will need to complete the section starting with #pseudocode. The pseudocode has been included for you."
   ]
  },
  {
   "cell_type": "code",
   "execution_count": 9,
   "metadata": {},
   "outputs": [],
   "source": [
    "def qtrain(model, maze, **opt):\n",
    "\n",
    "    # exploration factor\n",
    "    global epsilon\n",
    "\n",
    "    # number of epochs\n",
    "    n_epoch = opt.get('n_epoch', 15000)\n",
    "\n",
    "    # maximum memory to store episodes\n",
    "    max_memory = opt.get('max_memory', 1000)\n",
    "\n",
    "    # maximum data size for training\n",
    "    data_size = opt.get('data_size', 50)\n",
    "\n",
    "    # start time\n",
    "    start_time = datetime.datetime.now()\n",
    "\n",
    "    # Construct environment/game from numpy array: maze (see above)\n",
    "    qmaze = TreasureMaze(maze)\n",
    "\n",
    "    # Initialize experience replay object\n",
    "    experience = GameExperience(model, max_memory=max_memory)\n",
    "    \n",
    "    win_history = []   # history of win/lose game\n",
    "    hsize = qmaze.maze.size//2   # history window size\n",
    "    win_rate = 0.0\n",
    "    \n",
    "    # pseudocode:\n",
    "    # For each epoch:\n",
    "    #    Agent_cell = randomly select a free cell\n",
    "    #    Reset the maze with agent set to above position\n",
    "    #    Hint: Review the reset method in the TreasureMaze.py class.\n",
    "    #    envstate = Environment.current_state\n",
    "    #    Hint: Review the observe method in the TreasureMaze.py class.\n",
    "    #    While state is not game over:\n",
    "    #        previous_envstate = envstate\n",
    "    #        Action = randomly choose action (left, right, up, down) either by exploration or by exploitation\n",
    "    #        envstate, reward, game_status = qmaze.act(action)\n",
    "    #    Hint: Review the act method in the TreasureMaze.py class.\n",
    "    #        episode = [previous_envstate, action, reward, envstate, game_status]\n",
    "    #        Store episode in Experience replay object\n",
    "    #    Hint: Review the remember method in the GameExperience.py class.\n",
    "    #        Train neural network model and evaluate loss\n",
    "    #    Hint: Call GameExperience.get_data to retrieve training data (input and target) and pass to model.fit method \n",
    "    #          to train the model. You can call model.evaluate to determine loss.\n",
    "    #    If the win rate is above the threshold and your model passes the completion check, that would be your epoch.\n",
    "\n",
    "    for epoch in range(n_epoch):\n",
    "        n_episodes = 0 # idk\n",
    "        Agent_cell = random.choice(qmaze.free_cells)\n",
    "        qmaze.reset(Agent_cell)\n",
    "        envstate = qmaze.observe() # Environment.current_state\n",
    "        finished = False\n",
    "        while not finished:\n",
    "            valid_actions = qmaze.valid_actions()\n",
    "            if not valid_actions: break\n",
    "            prev_envstate = envstate\n",
    "            # get next action:\n",
    "            #q = model.predict(prev_envstate)\n",
    "            #action = np.argmax(q[0])\n",
    "            if np.random.rand() < epsilon:\n",
    "                action = random.choice(valid_actions)\n",
    "            else:\n",
    "                action = np.argmax(experience.predict(prev_envstate))\n",
    "                #action = np.argmax(model.predict(prev_envstate))\n",
    "                \n",
    "            # apply action, get rewards and new state\n",
    "            envstate, reward, game_status = qmaze.act(action)\n",
    "            #win_history.append(game_status == 'win')\n",
    "            #win_rate = sum(win_history)/len(win_history)\n",
    "            if game_status == 'win':\n",
    "                win_history.append(1)\n",
    "                finished = True\n",
    "            elif game_status == 'lose':\n",
    "                win_history.append(0)\n",
    "                finished = True\n",
    "            else:\n",
    "                finished = False\n",
    "            \n",
    "            episode = [prev_envstate, action, reward, envstate, game_status]\n",
    "            # store episode in experience replay object:\n",
    "            experience.remember(episode)\n",
    "            n_episodes += 1 # increase total episode count\n",
    "            # train neural network model and evaluate loss:\n",
    "            imp, target = experience.get_data(data_size=data_size)\n",
    "            history = model.fit(imp, target, epochs=8, batch_size=16, verbose=0)\n",
    "            loss = model.evaluate(imp, target, verbose=0)\n",
    "\n",
    "        if len(win_history) > hsize: # fill up history first (history is data_size)\n",
    "            win_rate = sum(win_history[-hsize:]) / hsize # rate is history's last 32/32 (history/data_size)\n",
    "    #Print the epoch, loss, episodes, win count, and win rate for each epoch\n",
    "        dt = datetime.datetime.now() - start_time\n",
    "        t = format_time(dt.total_seconds())\n",
    "        template = \"Epoch: {:03d}/{:d} | Loss: {:.4f} | Episodes: {:d} | Win count: {:d} | Win rate: {:.3f} | time: {}\"\n",
    "        print(template.format(epoch, n_epoch-1, loss, n_episodes, sum(win_history), win_rate, t))\n",
    "        # We simply check if training has exhausted all free cells and if in all\n",
    "        # cases the agent won.\n",
    "        #if sum(win_history) > 10 : epsilon = 0.1\n",
    "        if win_rate > 0.9 : epsilon = 0.05\n",
    "        if sum(win_history[-hsize:]) == hsize and completion_check(model, qmaze):\n",
    "            print(\"Reached 100%% win rate at epoch: %d\" % (epoch,))\n",
    "            break\n",
    "    \n",
    "    \n",
    "    # Determine the total time for training\n",
    "    dt = datetime.datetime.now() - start_time\n",
    "    seconds = dt.total_seconds()\n",
    "    t = format_time(seconds)\n",
    "\n",
    "    print(\"n_epoch: %d, max_mem: %d, data: %d, time: %s\" % (epoch, max_memory, data_size, t))\n",
    "    return seconds\n",
    "\n",
    "# This is a small utility for printing readable time strings:\n",
    "def format_time(seconds):\n",
    "    if seconds < 400:\n",
    "        s = float(seconds)\n",
    "        return \"%.1f seconds\" % (s,)\n",
    "    elif seconds < 4000:\n",
    "        m = seconds / 60.0\n",
    "        return \"%.2f minutes\" % (m,)\n",
    "    else:\n",
    "        h = seconds / 3600.0\n",
    "        return \"%.2f hours\" % (h,)"
   ]
  },
  {
   "cell_type": "markdown",
   "metadata": {},
   "source": [
    "## Test Your Model\n",
    "\n",
    "Now we will start testing the deep Q-learning implementation. To begin, select **Cell**, then **Run All** from the menu bar. This will run your notebook. As it runs, you should see output begin to appear beneath the next few cells. The code below creates an instance of TreasureMaze."
   ]
  },
  {
   "cell_type": "code",
   "execution_count": 10,
   "metadata": {},
   "outputs": [
    {
     "data": {
      "text/plain": [
       "<matplotlib.image.AxesImage at 0x176f7ef10>"
      ]
     },
     "execution_count": 10,
     "metadata": {},
     "output_type": "execute_result"
    },
    {
     "data": {
      "image/png": "[encoded data removed]",
      "text/plain": [
       "<Figure size 432x288 with 1 Axes>"
      ]
     },
     "metadata": {
      "needs_background": "light"
     },
     "output_type": "display_data"
    }
   ],
   "source": [
    "qmaze = TreasureMaze(maze)\n",
    "show(qmaze)"
   ]
  },
  {
   "cell_type": "markdown",
   "metadata": {},
   "source": [
    "In the next code block, you will build your model and train it using deep Q-learning. Note: This step takes several minutes to fully run."
   ]
  },
  {
   "cell_type": "code",
   "execution_count": 11,
   "metadata": {},
   "outputs": [
    {
     "name": "stdout",
     "output_type": "stream",
     "text": [
      "Metal device set to: Apple M1\n"
     ]
    },
    {
     "name": "stderr",
     "output_type": "stream",
     "text": [
      "2021-08-05 05:27:36.198040: I tensorflow/core/common_runtime/pluggable_device/pluggable_device_factory.cc:305] Could not identify NUMA node of platform GPU ID 0, defaulting to 0. Your kernel may not have been built with NUMA support.\n",
      "2021-08-05 05:27:36.198115: I tensorflow/core/common_runtime/pluggable_device/pluggable_device_factory.cc:271] Created TensorFlow device (/job:localhost/replica:0/task:0/device:GPU:0 with 0 MB memory) -> physical PluggableDevice (device: 0, name: METAL, pci bus id: <undefined>)\n",
      "2021-08-05 05:27:36.357941: I tensorflow/compiler/mlir/mlir_graph_optimization_pass.cc:176] None of the MLIR Optimization Passes are enabled (registered 2)\n",
      "2021-08-05 05:27:36.358105: W tensorflow/core/platform/profile_utils/cpu_utils.cc:128] Failed to get CPU frequency: 0 Hz\n",
      "2021-08-05 05:27:38.525330: I tensorflow/core/grappler/optimizers/custom_graph_optimizer_registry.cc:112] Plugin optimizer for device_type GPU is enabled.\n",
      "2021-08-05 05:27:42.557946: I tensorflow/core/grappler/optimizers/custom_graph_optimizer_registry.cc:112] Plugin optimizer for device_type GPU is enabled.\n",
      "2021-08-05 05:27:42.824198: I tensorflow/core/grappler/optimizers/custom_graph_optimizer_registry.cc:112] Plugin optimizer for device_type GPU is enabled.\n",
      "2021-08-05 05:27:48.517165: I tensorflow/core/grappler/optimizers/custom_graph_optimizer_registry.cc:112] Plugin optimizer for device_type GPU is enabled.\n",
      "2021-08-05 05:28:02.643493: I tensorflow/core/grappler/optimizers/custom_graph_optimizer_registry.cc:112] Plugin optimizer for device_type GPU is enabled.\n"
     ]
    },
    {
     "name": "stdout",
     "output_type": "stream",
     "text": [
      "Epoch: 000/999 | Loss: 0.0001 | Episodes: 134 | Win count: 0 | Win rate: 0.000 | time: 134.7 seconds\n",
      "Epoch: 001/999 | Loss: 0.0005 | Episodes: 139 | Win count: 0 | Win rate: 0.000 | time: 282.4 seconds\n",
      "Epoch: 002/999 | Loss: 0.0002 | Episodes: 146 | Win count: 0 | Win rate: 0.000 | time: 7.33 minutes\n",
      "Epoch: 003/999 | Loss: 0.0004 | Episodes: 114 | Win count: 1 | Win rate: 0.000 | time: 9.39 minutes\n",
      "Epoch: 004/999 | Loss: 0.0010 | Episodes: 134 | Win count: 1 | Win rate: 0.000 | time: 11.80 minutes\n",
      "Epoch: 005/999 | Loss: 0.0010 | Episodes: 69 | Win count: 2 | Win rate: 0.000 | time: 13.02 minutes\n",
      "Epoch: 006/999 | Loss: 0.0012 | Episodes: 5 | Win count: 3 | Win rate: 0.000 | time: 13.11 minutes\n",
      "Epoch: 007/999 | Loss: 0.0009 | Episodes: 134 | Win count: 3 | Win rate: 0.000 | time: 15.49 minutes\n",
      "Epoch: 008/999 | Loss: 0.0003 | Episodes: 80 | Win count: 4 | Win rate: 0.000 | time: 16.90 minutes\n",
      "Epoch: 009/999 | Loss: 0.0001 | Episodes: 138 | Win count: 4 | Win rate: 0.000 | time: 19.38 minutes\n",
      "Epoch: 010/999 | Loss: 0.0006 | Episodes: 22 | Win count: 5 | Win rate: 0.000 | time: 19.77 minutes\n",
      "Epoch: 011/999 | Loss: 0.0004 | Episodes: 1 | Win count: 6 | Win rate: 0.000 | time: 19.79 minutes\n",
      "Epoch: 012/999 | Loss: 0.0007 | Episodes: 94 | Win count: 7 | Win rate: 0.000 | time: 21.46 minutes\n",
      "Epoch: 013/999 | Loss: 0.0006 | Episodes: 6 | Win count: 8 | Win rate: 0.000 | time: 21.57 minutes\n",
      "Epoch: 014/999 | Loss: 0.0011 | Episodes: 27 | Win count: 9 | Win rate: 0.000 | time: 22.04 minutes\n",
      "Epoch: 015/999 | Loss: 0.0003 | Episodes: 141 | Win count: 9 | Win rate: 0.000 | time: 24.51 minutes\n",
      "Epoch: 016/999 | Loss: 0.0012 | Episodes: 28 | Win count: 10 | Win rate: 0.000 | time: 25.00 minutes\n",
      "Epoch: 017/999 | Loss: 0.0009 | Episodes: 13 | Win count: 11 | Win rate: 0.000 | time: 25.22 minutes\n",
      "Epoch: 018/999 | Loss: 0.0007 | Episodes: 4 | Win count: 12 | Win rate: 0.000 | time: 25.29 minutes\n",
      "Epoch: 019/999 | Loss: 0.0005 | Episodes: 4 | Win count: 13 | Win rate: 0.000 | time: 25.36 minutes\n",
      "Epoch: 020/999 | Loss: 0.0007 | Episodes: 19 | Win count: 14 | Win rate: 0.000 | time: 25.70 minutes\n",
      "Epoch: 021/999 | Loss: 0.0008 | Episodes: 24 | Win count: 15 | Win rate: 0.000 | time: 26.12 minutes\n",
      "Epoch: 022/999 | Loss: 0.0007 | Episodes: 18 | Win count: 16 | Win rate: 0.000 | time: 26.43 minutes\n",
      "Epoch: 023/999 | Loss: 0.0007 | Episodes: 57 | Win count: 17 | Win rate: 0.000 | time: 27.43 minutes\n",
      "Epoch: 024/999 | Loss: 0.0006 | Episodes: 10 | Win count: 18 | Win rate: 0.000 | time: 27.60 minutes\n",
      "Epoch: 025/999 | Loss: 0.0011 | Episodes: 90 | Win count: 19 | Win rate: 0.000 | time: 29.18 minutes\n",
      "Epoch: 026/999 | Loss: 0.0006 | Episodes: 22 | Win count: 20 | Win rate: 0.000 | time: 29.56 minutes\n",
      "Epoch: 027/999 | Loss: 0.0007 | Episodes: 11 | Win count: 21 | Win rate: 0.000 | time: 29.75 minutes\n",
      "Epoch: 028/999 | Loss: 0.0007 | Episodes: 4 | Win count: 22 | Win rate: 0.000 | time: 29.82 minutes\n",
      "Epoch: 029/999 | Loss: 0.0002 | Episodes: 2 | Win count: 23 | Win rate: 0.000 | time: 29.86 minutes\n",
      "Epoch: 030/999 | Loss: 0.0001 | Episodes: 25 | Win count: 24 | Win rate: 0.000 | time: 30.30 minutes\n",
      "Epoch: 031/999 | Loss: 0.0007 | Episodes: 1 | Win count: 25 | Win rate: 0.000 | time: 30.31 minutes\n",
      "Epoch: 032/999 | Loss: 0.0005 | Episodes: 132 | Win count: 25 | Win rate: 0.781 | time: 32.62 minutes\n",
      "Epoch: 033/999 | Loss: 0.0002 | Episodes: 134 | Win count: 25 | Win rate: 0.781 | time: 34.96 minutes\n",
      "Epoch: 034/999 | Loss: 0.0000 | Episodes: 134 | Win count: 25 | Win rate: 0.781 | time: 37.30 minutes\n",
      "Epoch: 035/999 | Loss: 0.0003 | Episodes: 9 | Win count: 26 | Win rate: 0.781 | time: 37.46 minutes\n",
      "Epoch: 036/999 | Loss: 0.0002 | Episodes: 129 | Win count: 27 | Win rate: 0.812 | time: 39.72 minutes\n",
      "Epoch: 037/999 | Loss: 0.0008 | Episodes: 97 | Win count: 28 | Win rate: 0.812 | time: 41.41 minutes\n",
      "Epoch: 038/999 | Loss: 0.0007 | Episodes: 23 | Win count: 29 | Win rate: 0.812 | time: 41.82 minutes\n",
      "Epoch: 039/999 | Loss: 0.0009 | Episodes: 24 | Win count: 30 | Win rate: 0.844 | time: 42.23 minutes\n",
      "Epoch: 040/999 | Loss: 0.0009 | Episodes: 4 | Win count: 31 | Win rate: 0.844 | time: 42.30 minutes\n",
      "Epoch: 041/999 | Loss: 0.0005 | Episodes: 30 | Win count: 32 | Win rate: 0.875 | time: 42.83 minutes\n",
      "Epoch: 042/999 | Loss: 0.0007 | Episodes: 42 | Win count: 33 | Win rate: 0.875 | time: 43.56 minutes\n",
      "Epoch: 043/999 | Loss: 0.0005 | Episodes: 15 | Win count: 34 | Win rate: 0.875 | time: 43.82 minutes\n",
      "Epoch: 044/999 | Loss: 0.0007 | Episodes: 27 | Win count: 35 | Win rate: 0.875 | time: 44.29 minutes\n",
      "Epoch: 045/999 | Loss: 0.0007 | Episodes: 26 | Win count: 36 | Win rate: 0.875 | time: 44.74 minutes\n",
      "Epoch: 046/999 | Loss: 0.0005 | Episodes: 26 | Win count: 37 | Win rate: 0.875 | time: 45.19 minutes\n",
      "Epoch: 047/999 | Loss: 0.0006 | Episodes: 40 | Win count: 38 | Win rate: 0.906 | time: 45.89 minutes\n",
      "Epoch: 048/999 | Loss: 0.0007 | Episodes: 13 | Win count: 39 | Win rate: 0.906 | time: 46.12 minutes\n",
      "Epoch: 049/999 | Loss: 0.0004 | Episodes: 146 | Win count: 40 | Win rate: 0.906 | time: 48.66 minutes\n",
      "Epoch: 050/999 | Loss: 0.0005 | Episodes: 13 | Win count: 41 | Win rate: 0.906 | time: 48.89 minutes\n",
      "Epoch: 051/999 | Loss: 0.0004 | Episodes: 1 | Win count: 42 | Win rate: 0.906 | time: 48.90 minutes\n",
      "Epoch: 052/999 | Loss: 0.0001 | Episodes: 13 | Win count: 43 | Win rate: 0.906 | time: 49.13 minutes\n",
      "Epoch: 053/999 | Loss: 0.0006 | Episodes: 16 | Win count: 44 | Win rate: 0.906 | time: 49.41 minutes\n",
      "Epoch: 054/999 | Loss: 0.0008 | Episodes: 13 | Win count: 45 | Win rate: 0.906 | time: 49.64 minutes\n",
      "Epoch: 055/999 | Loss: 0.0006 | Episodes: 5 | Win count: 46 | Win rate: 0.906 | time: 49.72 minutes\n",
      "Epoch: 056/999 | Loss: 0.0005 | Episodes: 29 | Win count: 47 | Win rate: 0.906 | time: 50.23 minutes\n",
      "Epoch: 057/999 | Loss: 0.0006 | Episodes: 40 | Win count: 48 | Win rate: 0.906 | time: 50.93 minutes\n",
      "Epoch: 058/999 | Loss: 0.0005 | Episodes: 46 | Win count: 49 | Win rate: 0.906 | time: 51.73 minutes\n",
      "Epoch: 059/999 | Loss: 0.0001 | Episodes: 9 | Win count: 50 | Win rate: 0.906 | time: 51.89 minutes\n",
      "Epoch: 060/999 | Loss: 0.0006 | Episodes: 14 | Win count: 51 | Win rate: 0.906 | time: 52.13 minutes\n",
      "Epoch: 061/999 | Loss: 0.0001 | Episodes: 21 | Win count: 52 | Win rate: 0.906 | time: 52.50 minutes\n",
      "Epoch: 062/999 | Loss: 0.0001 | Episodes: 9 | Win count: 53 | Win rate: 0.906 | time: 52.65 minutes\n",
      "Epoch: 063/999 | Loss: 0.0011 | Episodes: 46 | Win count: 54 | Win rate: 0.906 | time: 53.46 minutes\n",
      "Epoch: 064/999 | Loss: 0.0002 | Episodes: 9 | Win count: 55 | Win rate: 0.938 | time: 53.61 minutes\n",
      "Epoch: 065/999 | Loss: 0.0001 | Episodes: 31 | Win count: 56 | Win rate: 0.969 | time: 54.15 minutes\n",
      "Epoch: 066/999 | Loss: 0.0007 | Episodes: 12 | Win count: 57 | Win rate: 1.000 | time: 54.36 minutes\n",
      "Epoch: 067/999 | Loss: 0.0003 | Episodes: 23 | Win count: 58 | Win rate: 1.000 | time: 54.80 minutes\n",
      "Epoch: 068/999 | Loss: 0.0005 | Episodes: 9 | Win count: 59 | Win rate: 1.000 | time: 54.99 minutes\n",
      "Epoch: 069/999 | Loss: 0.0003 | Episodes: 37 | Win count: 60 | Win rate: 1.000 | time: 55.66 minutes\n",
      "Epoch: 070/999 | Loss: 0.0004 | Episodes: 1 | Win count: 61 | Win rate: 1.000 | time: 55.71 minutes\n",
      "Epoch: 071/999 | Loss: 0.0008 | Episodes: 17 | Win count: 62 | Win rate: 1.000 | time: 56.04 minutes\n",
      "Epoch: 072/999 | Loss: 0.0003 | Episodes: 17 | Win count: 63 | Win rate: 1.000 | time: 56.37 minutes\n",
      "Epoch: 073/999 | Loss: 0.0007 | Episodes: 21 | Win count: 64 | Win rate: 1.000 | time: 56.77 minutes\n",
      "Epoch: 074/999 | Loss: 0.0006 | Episodes: 6 | Win count: 65 | Win rate: 1.000 | time: 56.92 minutes\n",
      "Epoch: 075/999 | Loss: 0.0001 | Episodes: 9 | Win count: 66 | Win rate: 1.000 | time: 57.23 minutes\n",
      "Epoch: 076/999 | Loss: 0.0005 | Episodes: 17 | Win count: 67 | Win rate: 1.000 | time: 57.57 minutes\n",
      "Epoch: 077/999 | Loss: 0.0003 | Episodes: 14 | Win count: 68 | Win rate: 1.000 | time: 57.95 minutes\n",
      "Epoch: 078/999 | Loss: 0.0006 | Episodes: 40 | Win count: 69 | Win rate: 1.000 | time: 58.80 minutes\n",
      "Epoch: 079/999 | Loss: 0.0007 | Episodes: 23 | Win count: 70 | Win rate: 1.000 | time: 59.24 minutes\n",
      "Epoch: 080/999 | Loss: 0.0008 | Episodes: 47 | Win count: 71 | Win rate: 1.000 | time: 60.10 minutes\n",
      "Epoch: 081/999 | Loss: 0.0006 | Episodes: 34 | Win count: 72 | Win rate: 1.000 | time: 60.78 minutes\n",
      "Epoch: 082/999 | Loss: 0.0003 | Episodes: 31 | Win count: 73 | Win rate: 1.000 | time: 61.46 minutes\n",
      "Epoch: 083/999 | Loss: 0.0004 | Episodes: 16 | Win count: 74 | Win rate: 1.000 | time: 61.78 minutes\n",
      "Epoch: 084/999 | Loss: 0.0006 | Episodes: 15 | Win count: 75 | Win rate: 1.000 | time: 62.19 minutes\n",
      "Epoch: 085/999 | Loss: 0.0002 | Episodes: 6 | Win count: 76 | Win rate: 1.000 | time: 62.44 minutes\n",
      "Epoch: 086/999 | Loss: 0.0003 | Episodes: 37 | Win count: 77 | Win rate: 1.000 | time: 63.13 minutes\n",
      "Epoch: 087/999 | Loss: 0.0004 | Episodes: 3 | Win count: 78 | Win rate: 1.000 | time: 63.22 minutes\n",
      "Epoch: 088/999 | Loss: 0.0004 | Episodes: 4 | Win count: 79 | Win rate: 1.000 | time: 63.44 minutes\n",
      "Epoch: 089/999 | Loss: 0.0006 | Episodes: 16 | Win count: 80 | Win rate: 1.000 | time: 63.87 minutes\n",
      "Epoch: 090/999 | Loss: 0.0007 | Episodes: 16 | Win count: 81 | Win rate: 1.000 | time: 64.30 minutes\n",
      "Epoch: 091/999 | Loss: 0.0004 | Episodes: 21 | Win count: 82 | Win rate: 1.000 | time: 64.89 minutes\n",
      "Epoch: 092/999 | Loss: 0.0004 | Episodes: 34 | Win count: 83 | Win rate: 1.000 | time: 65.52 minutes\n",
      "Epoch: 093/999 | Loss: 0.0003 | Episodes: 1 | Win count: 84 | Win rate: 1.000 | time: 65.57 minutes\n",
      "Epoch: 094/999 | Loss: 0.0003 | Episodes: 30 | Win count: 85 | Win rate: 1.000 | time: 66.22 minutes\n",
      "Epoch: 095/999 | Loss: 0.0003 | Episodes: 3 | Win count: 86 | Win rate: 1.000 | time: 66.31 minutes\n",
      "Epoch: 096/999 | Loss: 0.0005 | Episodes: 23 | Win count: 87 | Win rate: 1.000 | time: 1.11 hours\n",
      "Epoch: 097/999 | Loss: 0.0005 | Episodes: 12 | Win count: 88 | Win rate: 1.000 | time: 1.12 hours\n",
      "Epoch: 098/999 | Loss: 0.0001 | Episodes: 12 | Win count: 89 | Win rate: 1.000 | time: 1.12 hours\n",
      "Epoch: 099/999 | Loss: 0.0003 | Episodes: 14 | Win count: 90 | Win rate: 1.000 | time: 1.13 hours\n",
      "Epoch: 100/999 | Loss: 0.0002 | Episodes: 33 | Win count: 91 | Win rate: 1.000 | time: 1.14 hours\n",
      "Epoch: 101/999 | Loss: 0.0005 | Episodes: 13 | Win count: 92 | Win rate: 1.000 | time: 1.14 hours\n",
      "Epoch: 102/999 | Loss: 0.0002 | Episodes: 18 | Win count: 93 | Win rate: 1.000 | time: 1.15 hours\n",
      "Epoch: 103/999 | Loss: 0.0002 | Episodes: 9 | Win count: 94 | Win rate: 1.000 | time: 1.15 hours\n",
      "Epoch: 104/999 | Loss: 0.0001 | Episodes: 1 | Win count: 95 | Win rate: 1.000 | time: 1.16 hours\n",
      "Epoch: 105/999 | Loss: 0.0001 | Episodes: 7 | Win count: 96 | Win rate: 1.000 | time: 1.16 hours\n",
      "Epoch: 106/999 | Loss: 0.0004 | Episodes: 33 | Win count: 97 | Win rate: 1.000 | time: 1.17 hours\n",
      "Epoch: 107/999 | Loss: 0.0003 | Episodes: 13 | Win count: 98 | Win rate: 1.000 | time: 1.18 hours\n",
      "Epoch: 108/999 | Loss: 0.0004 | Episodes: 39 | Win count: 99 | Win rate: 1.000 | time: 1.19 hours\n",
      "Epoch: 109/999 | Loss: 0.0001 | Episodes: 32 | Win count: 100 | Win rate: 1.000 | time: 1.20 hours\n",
      "Epoch: 110/999 | Loss: 0.0001 | Episodes: 23 | Win count: 101 | Win rate: 1.000 | time: 1.21 hours\n",
      "Epoch: 111/999 | Loss: 0.0009 | Episodes: 12 | Win count: 102 | Win rate: 1.000 | time: 1.21 hours\n",
      "Epoch: 112/999 | Loss: 0.0004 | Episodes: 18 | Win count: 103 | Win rate: 1.000 | time: 1.22 hours\n",
      "Epoch: 113/999 | Loss: 0.0002 | Episodes: 33 | Win count: 104 | Win rate: 1.000 | time: 1.23 hours\n",
      "Epoch: 114/999 | Loss: 0.0003 | Episodes: 30 | Win count: 105 | Win rate: 1.000 | time: 1.24 hours\n",
      "Epoch: 115/999 | Loss: 0.0004 | Episodes: 47 | Win count: 106 | Win rate: 1.000 | time: 1.26 hours\n",
      "Epoch: 116/999 | Loss: 0.0006 | Episodes: 10 | Win count: 107 | Win rate: 1.000 | time: 1.26 hours\n",
      "Epoch: 117/999 | Loss: 0.0001 | Episodes: 24 | Win count: 108 | Win rate: 1.000 | time: 1.27 hours\n",
      "Epoch: 118/999 | Loss: 0.0004 | Episodes: 1 | Win count: 109 | Win rate: 1.000 | time: 1.27 hours\n",
      "Epoch: 119/999 | Loss: 0.0003 | Episodes: 25 | Win count: 110 | Win rate: 1.000 | time: 1.28 hours\n",
      "Epoch: 120/999 | Loss: 0.0001 | Episodes: 30 | Win count: 111 | Win rate: 1.000 | time: 1.28 hours\n",
      "Epoch: 121/999 | Loss: 0.0005 | Episodes: 21 | Win count: 112 | Win rate: 1.000 | time: 1.29 hours\n",
      "Epoch: 122/999 | Loss: 0.0002 | Episodes: 11 | Win count: 113 | Win rate: 1.000 | time: 1.30 hours\n",
      "Epoch: 123/999 | Loss: 0.0002 | Episodes: 25 | Win count: 114 | Win rate: 1.000 | time: 1.30 hours\n",
      "Epoch: 124/999 | Loss: 0.0004 | Episodes: 27 | Win count: 115 | Win rate: 1.000 | time: 1.31 hours\n",
      "Epoch: 125/999 | Loss: 0.0001 | Episodes: 11 | Win count: 116 | Win rate: 1.000 | time: 1.32 hours\n",
      "Epoch: 126/999 | Loss: 0.0011 | Episodes: 18 | Win count: 117 | Win rate: 1.000 | time: 1.32 hours\n",
      "Epoch: 127/999 | Loss: 0.0003 | Episodes: 2 | Win count: 118 | Win rate: 1.000 | time: 1.32 hours\n",
      "Epoch: 128/999 | Loss: 0.0007 | Episodes: 19 | Win count: 119 | Win rate: 1.000 | time: 1.33 hours\n",
      "Epoch: 129/999 | Loss: 0.0006 | Episodes: 39 | Win count: 120 | Win rate: 1.000 | time: 1.34 hours\n",
      "Epoch: 130/999 | Loss: 0.0006 | Episodes: 21 | Win count: 121 | Win rate: 1.000 | time: 1.35 hours\n",
      "Epoch: 131/999 | Loss: 0.0000 | Episodes: 7 | Win count: 122 | Win rate: 1.000 | time: 1.35 hours\n",
      "Epoch: 132/999 | Loss: 0.0006 | Episodes: 8 | Win count: 123 | Win rate: 1.000 | time: 1.35 hours\n",
      "Epoch: 133/999 | Loss: 0.0010 | Episodes: 19 | Win count: 124 | Win rate: 1.000 | time: 1.36 hours\n",
      "Epoch: 134/999 | Loss: 0.0002 | Episodes: 24 | Win count: 125 | Win rate: 1.000 | time: 1.37 hours\n",
      "Epoch: 135/999 | Loss: 0.0002 | Episodes: 26 | Win count: 126 | Win rate: 1.000 | time: 1.38 hours\n",
      "Epoch: 136/999 | Loss: 0.0001 | Episodes: 14 | Win count: 127 | Win rate: 1.000 | time: 1.38 hours\n",
      "Epoch: 137/999 | Loss: 0.0004 | Episodes: 13 | Win count: 128 | Win rate: 1.000 | time: 1.39 hours\n",
      "Epoch: 138/999 | Loss: 0.0004 | Episodes: 20 | Win count: 129 | Win rate: 1.000 | time: 1.40 hours\n",
      "Epoch: 139/999 | Loss: 0.0004 | Episodes: 4 | Win count: 130 | Win rate: 1.000 | time: 1.40 hours\n",
      "Reached 100% win rate at epoch: 139\n",
      "n_epoch: 139, max_mem: 512, data: 32, time: 1.40 hours\n"
     ]
    },
    {
     "data": {
      "text/plain": [
       "5054.381424"
      ]
     },
     "execution_count": 11,
     "metadata": {},
     "output_type": "execute_result"
    }
   ],
   "source": [
    "model = build_model(maze)\n",
    "qtrain(model, maze, n_epoch=1000, max_memory=8*maze.size, data_size=32)"
   ]
  },
  {
   "cell_type": "markdown",
   "metadata": {},
   "source": [
    "This cell will check to see if the model passes the completion check. Note: This could take several minutes."
   ]
  },
  {
   "cell_type": "code",
   "execution_count": 12,
   "metadata": {},
   "outputs": [
    {
     "data": {
      "text/plain": [
       "<matplotlib.image.AxesImage at 0x2a6305df0>"
      ]
     },
     "execution_count": 12,
     "metadata": {},
     "output_type": "execute_result"
    },
    {
     "data": {
      "image/png": "[encoded data removed]",
      "text/plain": [
       "<Figure size 432x288 with 1 Axes>"
      ]
     },
     "metadata": {
      "needs_background": "light"
     },
     "output_type": "display_data"
    }
   ],
   "source": [
    "completion_check(model, qmaze)\n",
    "show(qmaze)"
   ]
  },
  {
   "cell_type": "markdown",
   "metadata": {},
   "source": [
    "This cell will test your model for one game. It will start the pirate at the top-left corner and run play_game. The agent should find a path from the starting position to the target (treasure). The treasure is located in the bottom-right corner."
   ]
  },
  {
   "cell_type": "code",
   "execution_count": 13,
   "metadata": {},
   "outputs": [
    {
     "data": {
      "text/plain": [
       "<matplotlib.image.AxesImage at 0x179c06f10>"
      ]
     },
     "execution_count": 13,
     "metadata": {},
     "output_type": "execute_result"
    },
    {
     "data": {
      "image/png": "[encoded data removed]",
      "text/plain": [
       "<Figure size 432x288 with 1 Axes>"
      ]
     },
     "metadata": {
      "needs_background": "light"
     },
     "output_type": "display_data"
    }
   ],
   "source": [
    "pirate_start = (0, 0)\n",
    "play_game(model, qmaze, pirate_start)\n",
    "show(qmaze)"
   ]
  },
  {
   "cell_type": "markdown",
   "metadata": {},
   "source": [
    "## Save and Submit Your Work\n",
    "After you have finished creating the code for your notebook, save your work. Make sure that your notebook contains your name in the filename (e.g. Doe_Jane_ProjectTwo.ipynb). This will help your instructor access and grade your work easily. Download a copy of your IPYNB file and submit it to Brightspace. Refer to the Jupyter Notebook in Apporto Tutorial if you need help with these tasks."
   ]
  }
 ],
 "metadata": {
  "kernelspec": {
   "display_name": "Python 3 (ipykernel)",
   "language": "python",
   "name": "python3"
  },
  "language_info": {
   "codemirror_mode": {
    "name": "ipython",
    "version": 3
   },
   "file_extension": ".py",
   "mimetype": "text/x-python",
   "name": "python",
   "nbconvert_exporter": "python",
   "pygments_lexer": "ipython3",
   "version": "3.8.2"
  }
 },
 "nbformat": 4,
 "nbformat_minor": 2
}
